{
 "cells": [
  {
   "cell_type": "markdown",
   "id": "a91ca85d",
   "metadata": {},
   "source": [
    "# Exploratory Data Analysis of 196 AI Ranked Countries:"
   ]
  },
  {
   "cell_type": "code",
   "execution_count": 120,
   "id": "350aac5a",
   "metadata": {},
   "outputs": [],
   "source": [
    "import numpy as np\n",
    "import pandas as pd\n",
    "import matplotlib.pyplot as plt\n",
    "import seaborn as sns\n"
   ]
  },
  {
   "cell_type": "markdown",
   "id": "f895500b",
   "metadata": {},
   "source": [
    "# Data Reading:"
   ]
  },
  {
   "cell_type": "code",
   "execution_count": 121,
   "id": "7532982a",
   "metadata": {},
   "outputs": [
    {
     "data": {
      "text/html": [
       "<div>\n",
       "<style scoped>\n",
       "    .dataframe tbody tr th:only-of-type {\n",
       "        vertical-align: middle;\n",
       "    }\n",
       "\n",
       "    .dataframe tbody tr th {\n",
       "        vertical-align: top;\n",
       "    }\n",
       "\n",
       "    .dataframe thead th {\n",
       "        text-align: right;\n",
       "    }\n",
       "</style>\n",
       "<table border=\"1\" class=\"dataframe\">\n",
       "  <thead>\n",
       "    <tr style=\"text-align: right;\">\n",
       "      <th></th>\n",
       "      <th>Unnamed: 0</th>\n",
       "      <th>Rank</th>\n",
       "      <th>Country</th>\n",
       "      <th>Region</th>\n",
       "      <th>Documents</th>\n",
       "      <th>Citabledocuments</th>\n",
       "      <th>Citations</th>\n",
       "      <th>Selfcitations</th>\n",
       "      <th>Citationsperdocument</th>\n",
       "      <th>Hindex</th>\n",
       "      <th>Nonselfcitations</th>\n",
       "    </tr>\n",
       "  </thead>\n",
       "  <tbody>\n",
       "    <tr>\n",
       "      <th>0</th>\n",
       "      <td>0</td>\n",
       "      <td>1</td>\n",
       "      <td>China</td>\n",
       "      <td>Asiatic Region</td>\n",
       "      <td>229772</td>\n",
       "      <td>227992</td>\n",
       "      <td>1856194</td>\n",
       "      <td>1155213</td>\n",
       "      <td>8.08</td>\n",
       "      <td>324</td>\n",
       "      <td>700981</td>\n",
       "    </tr>\n",
       "    <tr>\n",
       "      <th>1</th>\n",
       "      <td>1</td>\n",
       "      <td>2</td>\n",
       "      <td>United States</td>\n",
       "      <td>Northern America</td>\n",
       "      <td>171630</td>\n",
       "      <td>166520</td>\n",
       "      <td>3589528</td>\n",
       "      <td>1120562</td>\n",
       "      <td>20.91</td>\n",
       "      <td>572</td>\n",
       "      <td>2468966</td>\n",
       "    </tr>\n",
       "    <tr>\n",
       "      <th>2</th>\n",
       "      <td>2</td>\n",
       "      <td>3</td>\n",
       "      <td>India</td>\n",
       "      <td>Asiatic Region</td>\n",
       "      <td>71010</td>\n",
       "      <td>69243</td>\n",
       "      <td>406564</td>\n",
       "      <td>149228</td>\n",
       "      <td>5.73</td>\n",
       "      <td>167</td>\n",
       "      <td>257336</td>\n",
       "    </tr>\n",
       "    <tr>\n",
       "      <th>3</th>\n",
       "      <td>3</td>\n",
       "      <td>4</td>\n",
       "      <td>Japan</td>\n",
       "      <td>Asiatic Region</td>\n",
       "      <td>59155</td>\n",
       "      <td>57794</td>\n",
       "      <td>459044</td>\n",
       "      <td>123494</td>\n",
       "      <td>7.76</td>\n",
       "      <td>187</td>\n",
       "      <td>335550</td>\n",
       "    </tr>\n",
       "    <tr>\n",
       "      <th>4</th>\n",
       "      <td>4</td>\n",
       "      <td>5</td>\n",
       "      <td>United Kingdom</td>\n",
       "      <td>Western Europe</td>\n",
       "      <td>53306</td>\n",
       "      <td>50815</td>\n",
       "      <td>979585</td>\n",
       "      <td>183278</td>\n",
       "      <td>18.38</td>\n",
       "      <td>309</td>\n",
       "      <td>796307</td>\n",
       "    </tr>\n",
       "    <tr>\n",
       "      <th>...</th>\n",
       "      <td>...</td>\n",
       "      <td>...</td>\n",
       "      <td>...</td>\n",
       "      <td>...</td>\n",
       "      <td>...</td>\n",
       "      <td>...</td>\n",
       "      <td>...</td>\n",
       "      <td>...</td>\n",
       "      <td>...</td>\n",
       "      <td>...</td>\n",
       "      <td>...</td>\n",
       "    </tr>\n",
       "    <tr>\n",
       "      <th>190</th>\n",
       "      <td>190</td>\n",
       "      <td>191</td>\n",
       "      <td>Samoa</td>\n",
       "      <td>Pacific Region</td>\n",
       "      <td>1</td>\n",
       "      <td>1</td>\n",
       "      <td>0</td>\n",
       "      <td>0</td>\n",
       "      <td>0.00</td>\n",
       "      <td>0</td>\n",
       "      <td>0</td>\n",
       "    </tr>\n",
       "    <tr>\n",
       "      <th>191</th>\n",
       "      <td>191</td>\n",
       "      <td>192</td>\n",
       "      <td>Christmas Island</td>\n",
       "      <td>Pacific Region</td>\n",
       "      <td>1</td>\n",
       "      <td>1</td>\n",
       "      <td>0</td>\n",
       "      <td>0</td>\n",
       "      <td>0.00</td>\n",
       "      <td>0</td>\n",
       "      <td>0</td>\n",
       "    </tr>\n",
       "    <tr>\n",
       "      <th>192</th>\n",
       "      <td>192</td>\n",
       "      <td>193</td>\n",
       "      <td>South Georgia and the South Sandwich Islands</td>\n",
       "      <td>Latin America</td>\n",
       "      <td>1</td>\n",
       "      <td>1</td>\n",
       "      <td>0</td>\n",
       "      <td>0</td>\n",
       "      <td>0.00</td>\n",
       "      <td>0</td>\n",
       "      <td>0</td>\n",
       "    </tr>\n",
       "    <tr>\n",
       "      <th>193</th>\n",
       "      <td>193</td>\n",
       "      <td>194</td>\n",
       "      <td>Sao Tome and Principe</td>\n",
       "      <td>Africa</td>\n",
       "      <td>1</td>\n",
       "      <td>1</td>\n",
       "      <td>0</td>\n",
       "      <td>0</td>\n",
       "      <td>0.00</td>\n",
       "      <td>0</td>\n",
       "      <td>0</td>\n",
       "    </tr>\n",
       "    <tr>\n",
       "      <th>194</th>\n",
       "      <td>194</td>\n",
       "      <td>195</td>\n",
       "      <td>Eritrea</td>\n",
       "      <td>Africa</td>\n",
       "      <td>1</td>\n",
       "      <td>1</td>\n",
       "      <td>1</td>\n",
       "      <td>0</td>\n",
       "      <td>1.00</td>\n",
       "      <td>1</td>\n",
       "      <td>1</td>\n",
       "    </tr>\n",
       "  </tbody>\n",
       "</table>\n",
       "<p>195 rows × 11 columns</p>\n",
       "</div>"
      ],
      "text/plain": [
       "     Unnamed: 0  Rank                                       Country  \\\n",
       "0             0     1                                         China   \n",
       "1             1     2                                 United States   \n",
       "2             2     3                                         India   \n",
       "3             3     4                                         Japan   \n",
       "4             4     5                                United Kingdom   \n",
       "..          ...   ...                                           ...   \n",
       "190         190   191                                         Samoa   \n",
       "191         191   192                              Christmas Island   \n",
       "192         192   193  South Georgia and the South Sandwich Islands   \n",
       "193         193   194                         Sao Tome and Principe   \n",
       "194         194   195                                       Eritrea   \n",
       "\n",
       "               Region  Documents  Citabledocuments  Citations  Selfcitations  \\\n",
       "0      Asiatic Region     229772            227992    1856194        1155213   \n",
       "1    Northern America     171630            166520    3589528        1120562   \n",
       "2      Asiatic Region      71010             69243     406564         149228   \n",
       "3      Asiatic Region      59155             57794     459044         123494   \n",
       "4      Western Europe      53306             50815     979585         183278   \n",
       "..                ...        ...               ...        ...            ...   \n",
       "190    Pacific Region          1                 1          0              0   \n",
       "191    Pacific Region          1                 1          0              0   \n",
       "192     Latin America          1                 1          0              0   \n",
       "193            Africa          1                 1          0              0   \n",
       "194            Africa          1                 1          1              0   \n",
       "\n",
       "     Citationsperdocument  Hindex  Nonselfcitations  \n",
       "0                    8.08     324            700981  \n",
       "1                   20.91     572           2468966  \n",
       "2                    5.73     167            257336  \n",
       "3                    7.76     187            335550  \n",
       "4                   18.38     309            796307  \n",
       "..                    ...     ...               ...  \n",
       "190                  0.00       0                 0  \n",
       "191                  0.00       0                 0  \n",
       "192                  0.00       0                 0  \n",
       "193                  0.00       0                 0  \n",
       "194                  1.00       1                 1  \n",
       "\n",
       "[195 rows x 11 columns]"
      ]
     },
     "execution_count": 121,
     "metadata": {},
     "output_type": "execute_result"
    }
   ],
   "source": [
    "data=pd.read_excel('EDA_AI.xlsx')\n",
    "data"
   ]
  },
  {
   "cell_type": "markdown",
   "id": "d3f737f8",
   "metadata": {},
   "source": [
    "# Inserting an important feature in the table:"
   ]
  },
  {
   "cell_type": "code",
   "execution_count": 122,
   "id": "55171426",
   "metadata": {},
   "outputs": [
    {
     "data": {
      "text/html": [
       "<div>\n",
       "<style scoped>\n",
       "    .dataframe tbody tr th:only-of-type {\n",
       "        vertical-align: middle;\n",
       "    }\n",
       "\n",
       "    .dataframe tbody tr th {\n",
       "        vertical-align: top;\n",
       "    }\n",
       "\n",
       "    .dataframe thead th {\n",
       "        text-align: right;\n",
       "    }\n",
       "</style>\n",
       "<table border=\"1\" class=\"dataframe\">\n",
       "  <thead>\n",
       "    <tr style=\"text-align: right;\">\n",
       "      <th></th>\n",
       "      <th>Unnamed: 0</th>\n",
       "      <th>Rank</th>\n",
       "      <th>Country</th>\n",
       "      <th>Region</th>\n",
       "      <th>Documents</th>\n",
       "      <th>Citabledocuments</th>\n",
       "      <th>Citations</th>\n",
       "      <th>Selfcitations</th>\n",
       "      <th>Citationsperdocument</th>\n",
       "      <th>Hindex</th>\n",
       "      <th>Nonselfcitations</th>\n",
       "    </tr>\n",
       "  </thead>\n",
       "  <tbody>\n",
       "    <tr>\n",
       "      <th>0</th>\n",
       "      <td>0</td>\n",
       "      <td>1</td>\n",
       "      <td>China</td>\n",
       "      <td>Asiatic Region</td>\n",
       "      <td>229772</td>\n",
       "      <td>227992</td>\n",
       "      <td>1856194</td>\n",
       "      <td>1155213</td>\n",
       "      <td>8.08</td>\n",
       "      <td>324</td>\n",
       "      <td>700981</td>\n",
       "    </tr>\n",
       "    <tr>\n",
       "      <th>1</th>\n",
       "      <td>1</td>\n",
       "      <td>2</td>\n",
       "      <td>United States</td>\n",
       "      <td>Northern America</td>\n",
       "      <td>171630</td>\n",
       "      <td>166520</td>\n",
       "      <td>3589528</td>\n",
       "      <td>1120562</td>\n",
       "      <td>20.91</td>\n",
       "      <td>572</td>\n",
       "      <td>2468966</td>\n",
       "    </tr>\n",
       "    <tr>\n",
       "      <th>2</th>\n",
       "      <td>2</td>\n",
       "      <td>3</td>\n",
       "      <td>India</td>\n",
       "      <td>Asiatic Region</td>\n",
       "      <td>71010</td>\n",
       "      <td>69243</td>\n",
       "      <td>406564</td>\n",
       "      <td>149228</td>\n",
       "      <td>5.73</td>\n",
       "      <td>167</td>\n",
       "      <td>257336</td>\n",
       "    </tr>\n",
       "    <tr>\n",
       "      <th>3</th>\n",
       "      <td>3</td>\n",
       "      <td>4</td>\n",
       "      <td>Japan</td>\n",
       "      <td>Asiatic Region</td>\n",
       "      <td>59155</td>\n",
       "      <td>57794</td>\n",
       "      <td>459044</td>\n",
       "      <td>123494</td>\n",
       "      <td>7.76</td>\n",
       "      <td>187</td>\n",
       "      <td>335550</td>\n",
       "    </tr>\n",
       "    <tr>\n",
       "      <th>4</th>\n",
       "      <td>4</td>\n",
       "      <td>5</td>\n",
       "      <td>United Kingdom</td>\n",
       "      <td>Western Europe</td>\n",
       "      <td>53306</td>\n",
       "      <td>50815</td>\n",
       "      <td>979585</td>\n",
       "      <td>183278</td>\n",
       "      <td>18.38</td>\n",
       "      <td>309</td>\n",
       "      <td>796307</td>\n",
       "    </tr>\n",
       "    <tr>\n",
       "      <th>...</th>\n",
       "      <td>...</td>\n",
       "      <td>...</td>\n",
       "      <td>...</td>\n",
       "      <td>...</td>\n",
       "      <td>...</td>\n",
       "      <td>...</td>\n",
       "      <td>...</td>\n",
       "      <td>...</td>\n",
       "      <td>...</td>\n",
       "      <td>...</td>\n",
       "      <td>...</td>\n",
       "    </tr>\n",
       "    <tr>\n",
       "      <th>190</th>\n",
       "      <td>190</td>\n",
       "      <td>191</td>\n",
       "      <td>Samoa</td>\n",
       "      <td>Pacific Region</td>\n",
       "      <td>1</td>\n",
       "      <td>1</td>\n",
       "      <td>0</td>\n",
       "      <td>0</td>\n",
       "      <td>0.00</td>\n",
       "      <td>0</td>\n",
       "      <td>0</td>\n",
       "    </tr>\n",
       "    <tr>\n",
       "      <th>191</th>\n",
       "      <td>191</td>\n",
       "      <td>192</td>\n",
       "      <td>Christmas Island</td>\n",
       "      <td>Pacific Region</td>\n",
       "      <td>1</td>\n",
       "      <td>1</td>\n",
       "      <td>0</td>\n",
       "      <td>0</td>\n",
       "      <td>0.00</td>\n",
       "      <td>0</td>\n",
       "      <td>0</td>\n",
       "    </tr>\n",
       "    <tr>\n",
       "      <th>192</th>\n",
       "      <td>192</td>\n",
       "      <td>193</td>\n",
       "      <td>South Georgia and the South Sandwich Islands</td>\n",
       "      <td>Latin America</td>\n",
       "      <td>1</td>\n",
       "      <td>1</td>\n",
       "      <td>0</td>\n",
       "      <td>0</td>\n",
       "      <td>0.00</td>\n",
       "      <td>0</td>\n",
       "      <td>0</td>\n",
       "    </tr>\n",
       "    <tr>\n",
       "      <th>193</th>\n",
       "      <td>193</td>\n",
       "      <td>194</td>\n",
       "      <td>Sao Tome and Principe</td>\n",
       "      <td>Africa</td>\n",
       "      <td>1</td>\n",
       "      <td>1</td>\n",
       "      <td>0</td>\n",
       "      <td>0</td>\n",
       "      <td>0.00</td>\n",
       "      <td>0</td>\n",
       "      <td>0</td>\n",
       "    </tr>\n",
       "    <tr>\n",
       "      <th>194</th>\n",
       "      <td>194</td>\n",
       "      <td>195</td>\n",
       "      <td>Eritrea</td>\n",
       "      <td>Africa</td>\n",
       "      <td>1</td>\n",
       "      <td>1</td>\n",
       "      <td>1</td>\n",
       "      <td>0</td>\n",
       "      <td>1.00</td>\n",
       "      <td>1</td>\n",
       "      <td>1</td>\n",
       "    </tr>\n",
       "  </tbody>\n",
       "</table>\n",
       "<p>195 rows × 11 columns</p>\n",
       "</div>"
      ],
      "text/plain": [
       "     Unnamed: 0  Rank                                       Country  \\\n",
       "0             0     1                                         China   \n",
       "1             1     2                                 United States   \n",
       "2             2     3                                         India   \n",
       "3             3     4                                         Japan   \n",
       "4             4     5                                United Kingdom   \n",
       "..          ...   ...                                           ...   \n",
       "190         190   191                                         Samoa   \n",
       "191         191   192                              Christmas Island   \n",
       "192         192   193  South Georgia and the South Sandwich Islands   \n",
       "193         193   194                         Sao Tome and Principe   \n",
       "194         194   195                                       Eritrea   \n",
       "\n",
       "               Region  Documents  Citabledocuments  Citations  Selfcitations  \\\n",
       "0      Asiatic Region     229772            227992    1856194        1155213   \n",
       "1    Northern America     171630            166520    3589528        1120562   \n",
       "2      Asiatic Region      71010             69243     406564         149228   \n",
       "3      Asiatic Region      59155             57794     459044         123494   \n",
       "4      Western Europe      53306             50815     979585         183278   \n",
       "..                ...        ...               ...        ...            ...   \n",
       "190    Pacific Region          1                 1          0              0   \n",
       "191    Pacific Region          1                 1          0              0   \n",
       "192     Latin America          1                 1          0              0   \n",
       "193            Africa          1                 1          0              0   \n",
       "194            Africa          1                 1          1              0   \n",
       "\n",
       "     Citationsperdocument  Hindex  Nonselfcitations  \n",
       "0                    8.08     324            700981  \n",
       "1                   20.91     572           2468966  \n",
       "2                    5.73     167            257336  \n",
       "3                    7.76     187            335550  \n",
       "4                   18.38     309            796307  \n",
       "..                    ...     ...               ...  \n",
       "190                  0.00       0                 0  \n",
       "191                  0.00       0                 0  \n",
       "192                  0.00       0                 0  \n",
       "193                  0.00       0                 0  \n",
       "194                  1.00       1                 1  \n",
       "\n",
       "[195 rows x 11 columns]"
      ]
     },
     "execution_count": 122,
     "metadata": {},
     "output_type": "execute_result"
    }
   ],
   "source": [
    "Nonselfcitations=data.Citations-data.Selfcitations\n",
    "Nonselfcitations\n",
    "data['Nonselfcitations']=Nonselfcitations\n",
    "data.to_excel('EDA_AI.xlsx')\n",
    "data"
   ]
  },
  {
   "cell_type": "markdown",
   "id": "5e92ffaa",
   "metadata": {},
   "source": [
    "# We are mostly interested regarding the top 10 AI Ranked Countries:"
   ]
  },
  {
   "cell_type": "code",
   "execution_count": 161,
   "id": "9395a44c",
   "metadata": {},
   "outputs": [
    {
     "data": {
      "text/html": [
       "<div>\n",
       "<style scoped>\n",
       "    .dataframe tbody tr th:only-of-type {\n",
       "        vertical-align: middle;\n",
       "    }\n",
       "\n",
       "    .dataframe tbody tr th {\n",
       "        vertical-align: top;\n",
       "    }\n",
       "\n",
       "    .dataframe thead th {\n",
       "        text-align: right;\n",
       "    }\n",
       "</style>\n",
       "<table border=\"1\" class=\"dataframe\">\n",
       "  <thead>\n",
       "    <tr style=\"text-align: right;\">\n",
       "      <th></th>\n",
       "      <th>Unnamed: 0</th>\n",
       "      <th>Rank</th>\n",
       "      <th>Country</th>\n",
       "      <th>Region</th>\n",
       "      <th>Documents</th>\n",
       "      <th>Citabledocuments</th>\n",
       "      <th>Citations</th>\n",
       "      <th>Selfcitations</th>\n",
       "      <th>Citationsperdocument</th>\n",
       "      <th>Hindex</th>\n",
       "      <th>Nonselfcitations</th>\n",
       "    </tr>\n",
       "  </thead>\n",
       "  <tbody>\n",
       "    <tr>\n",
       "      <th>0</th>\n",
       "      <td>0</td>\n",
       "      <td>1</td>\n",
       "      <td>China</td>\n",
       "      <td>Asiatic Region</td>\n",
       "      <td>229772</td>\n",
       "      <td>227992</td>\n",
       "      <td>1856194</td>\n",
       "      <td>1155213</td>\n",
       "      <td>8.08</td>\n",
       "      <td>324</td>\n",
       "      <td>700981</td>\n",
       "    </tr>\n",
       "    <tr>\n",
       "      <th>1</th>\n",
       "      <td>1</td>\n",
       "      <td>2</td>\n",
       "      <td>United States</td>\n",
       "      <td>Northern America</td>\n",
       "      <td>171630</td>\n",
       "      <td>166520</td>\n",
       "      <td>3589528</td>\n",
       "      <td>1120562</td>\n",
       "      <td>20.91</td>\n",
       "      <td>572</td>\n",
       "      <td>2468966</td>\n",
       "    </tr>\n",
       "    <tr>\n",
       "      <th>2</th>\n",
       "      <td>2</td>\n",
       "      <td>3</td>\n",
       "      <td>India</td>\n",
       "      <td>Asiatic Region</td>\n",
       "      <td>71010</td>\n",
       "      <td>69243</td>\n",
       "      <td>406564</td>\n",
       "      <td>149228</td>\n",
       "      <td>5.73</td>\n",
       "      <td>167</td>\n",
       "      <td>257336</td>\n",
       "    </tr>\n",
       "    <tr>\n",
       "      <th>3</th>\n",
       "      <td>3</td>\n",
       "      <td>4</td>\n",
       "      <td>Japan</td>\n",
       "      <td>Asiatic Region</td>\n",
       "      <td>59155</td>\n",
       "      <td>57794</td>\n",
       "      <td>459044</td>\n",
       "      <td>123494</td>\n",
       "      <td>7.76</td>\n",
       "      <td>187</td>\n",
       "      <td>335550</td>\n",
       "    </tr>\n",
       "    <tr>\n",
       "      <th>4</th>\n",
       "      <td>4</td>\n",
       "      <td>5</td>\n",
       "      <td>United Kingdom</td>\n",
       "      <td>Western Europe</td>\n",
       "      <td>53306</td>\n",
       "      <td>50815</td>\n",
       "      <td>979585</td>\n",
       "      <td>183278</td>\n",
       "      <td>18.38</td>\n",
       "      <td>309</td>\n",
       "      <td>796307</td>\n",
       "    </tr>\n",
       "    <tr>\n",
       "      <th>5</th>\n",
       "      <td>5</td>\n",
       "      <td>6</td>\n",
       "      <td>Germany</td>\n",
       "      <td>Western Europe</td>\n",
       "      <td>44903</td>\n",
       "      <td>43207</td>\n",
       "      <td>640044</td>\n",
       "      <td>139020</td>\n",
       "      <td>14.25</td>\n",
       "      <td>247</td>\n",
       "      <td>501024</td>\n",
       "    </tr>\n",
       "    <tr>\n",
       "      <th>6</th>\n",
       "      <td>6</td>\n",
       "      <td>7</td>\n",
       "      <td>France</td>\n",
       "      <td>Western Europe</td>\n",
       "      <td>34211</td>\n",
       "      <td>32975</td>\n",
       "      <td>502006</td>\n",
       "      <td>101864</td>\n",
       "      <td>14.67</td>\n",
       "      <td>219</td>\n",
       "      <td>400142</td>\n",
       "    </tr>\n",
       "    <tr>\n",
       "      <th>7</th>\n",
       "      <td>7</td>\n",
       "      <td>8</td>\n",
       "      <td>Italy</td>\n",
       "      <td>Western Europe</td>\n",
       "      <td>31731</td>\n",
       "      <td>29877</td>\n",
       "      <td>401728</td>\n",
       "      <td>102242</td>\n",
       "      <td>12.66</td>\n",
       "      <td>189</td>\n",
       "      <td>299486</td>\n",
       "    </tr>\n",
       "    <tr>\n",
       "      <th>8</th>\n",
       "      <td>8</td>\n",
       "      <td>9</td>\n",
       "      <td>Spain</td>\n",
       "      <td>Western Europe</td>\n",
       "      <td>29707</td>\n",
       "      <td>28295</td>\n",
       "      <td>436938</td>\n",
       "      <td>98320</td>\n",
       "      <td>14.71</td>\n",
       "      <td>203</td>\n",
       "      <td>338618</td>\n",
       "    </tr>\n",
       "    <tr>\n",
       "      <th>9</th>\n",
       "      <td>9</td>\n",
       "      <td>10</td>\n",
       "      <td>Canada</td>\n",
       "      <td>Northern America</td>\n",
       "      <td>28505</td>\n",
       "      <td>27615</td>\n",
       "      <td>631814</td>\n",
       "      <td>74672</td>\n",
       "      <td>22.17</td>\n",
       "      <td>245</td>\n",
       "      <td>557142</td>\n",
       "    </tr>\n",
       "  </tbody>\n",
       "</table>\n",
       "</div>"
      ],
      "text/plain": [
       "   Unnamed: 0  Rank         Country            Region  Documents  \\\n",
       "0           0     1           China    Asiatic Region     229772   \n",
       "1           1     2   United States  Northern America     171630   \n",
       "2           2     3           India    Asiatic Region      71010   \n",
       "3           3     4           Japan    Asiatic Region      59155   \n",
       "4           4     5  United Kingdom    Western Europe      53306   \n",
       "5           5     6         Germany    Western Europe      44903   \n",
       "6           6     7          France    Western Europe      34211   \n",
       "7           7     8           Italy    Western Europe      31731   \n",
       "8           8     9           Spain    Western Europe      29707   \n",
       "9           9    10          Canada  Northern America      28505   \n",
       "\n",
       "   Citabledocuments  Citations  Selfcitations  Citationsperdocument  Hindex  \\\n",
       "0            227992    1856194        1155213                  8.08     324   \n",
       "1            166520    3589528        1120562                 20.91     572   \n",
       "2             69243     406564         149228                  5.73     167   \n",
       "3             57794     459044         123494                  7.76     187   \n",
       "4             50815     979585         183278                 18.38     309   \n",
       "5             43207     640044         139020                 14.25     247   \n",
       "6             32975     502006         101864                 14.67     219   \n",
       "7             29877     401728         102242                 12.66     189   \n",
       "8             28295     436938          98320                 14.71     203   \n",
       "9             27615     631814          74672                 22.17     245   \n",
       "\n",
       "   Nonselfcitations  \n",
       "0            700981  \n",
       "1           2468966  \n",
       "2            257336  \n",
       "3            335550  \n",
       "4            796307  \n",
       "5            501024  \n",
       "6            400142  \n",
       "7            299486  \n",
       "8            338618  \n",
       "9            557142  "
      ]
     },
     "execution_count": 161,
     "metadata": {},
     "output_type": "execute_result"
    }
   ],
   "source": [
    "d=data.head(10)\n",
    "d"
   ]
  },
  {
   "cell_type": "markdown",
   "id": "91651ab1",
   "metadata": {},
   "source": [
    "# Scatterplots:"
   ]
  },
  {
   "cell_type": "code",
   "execution_count": 162,
   "id": "cf8c6429",
   "metadata": {},
   "outputs": [
    {
     "data": {
      "image/png": "[encoded data removed]",
      "text/plain": [
       "<Figure size 432x288 with 1 Axes>"
      ]
     },
     "metadata": {
      "needs_background": "light"
     },
     "output_type": "display_data"
    }
   ],
   "source": [
    "plt.scatter(data.Citationsperdocument,data.Hindex,marker='+',color='green',s=40)\n",
    "plt.ylabel('Hindex')\n",
    "plt.xlabel('Citations per Documents')\n",
    "plt.suptitle('H Index vs Citations per Documents',fontsize=15)\n",
    "plt.title('Scatterplot 1.1',fontsize=10)\n",
    "plt.show()"
   ]
  },
  {
   "cell_type": "code",
   "execution_count": 163,
   "id": "84bbe460",
   "metadata": {},
   "outputs": [
    {
     "data": {
      "image/png": "[encoded data removed]",
      "text/plain": [
       "<Figure size 432x288 with 1 Axes>"
      ]
     },
     "metadata": {
      "needs_background": "light"
     },
     "output_type": "display_data"
    }
   ],
   "source": [
    "plt.scatter(data.Nonselfcitations,data.Hindex,marker='o',color='red',s=10)\n",
    "plt.ylabel('Hindex')\n",
    "plt.xlabel('Non self Citations')\n",
    "plt.suptitle('H Index vs Non self Citations ',fontsize=15)\n",
    "plt.title('Scatterplot 1.2',fontsize=10)\n",
    "plt.show()"
   ]
  },
  {
   "cell_type": "markdown",
   "id": "bd668e9a",
   "metadata": {},
   "source": [
    "# Barplots:"
   ]
  },
  {
   "cell_type": "code",
   "execution_count": 166,
   "id": "027c17fa",
   "metadata": {},
   "outputs": [
    {
     "data": {
      "image/png": "[encoded data removed]",
      "text/plain": [
       "<Figure size 432x288 with 1 Axes>"
      ]
     },
     "metadata": {
      "needs_background": "light"
     },
     "output_type": "display_data"
    }
   ],
   "source": [
    "z=['China','USA','India','Japan','UK','German','Fra','Italy','Esp','Canada']\n",
    "plt.bar(d.Country,height=d.Citations,color=['orange','maroon','orange','orange','red','red','red','red','red','maroon'],tick_label=z)\n",
    "plt.ylabel('Total Citations')\n",
    "plt.xlabel('Country')\n",
    "plt.suptitle('Total Citations')\n",
    "plt.title('Barplot 1.1',fontsize=10)\n",
    "plt.show()"
   ]
  },
  {
   "cell_type": "code",
   "execution_count": 167,
   "id": "a3c83d79",
   "metadata": {},
   "outputs": [
    {
     "data": {
      "image/png": "[encoded data removed]",
      "text/plain": [
       "<Figure size 432x288 with 1 Axes>"
      ]
     },
     "metadata": {
      "needs_background": "light"
     },
     "output_type": "display_data"
    }
   ],
   "source": [
    "plt.bar(d.Country,height=d.Hindex,color=['seagreen','darkgreen','seagreen','seagreen','lime','lime','lime','lime','lime','darkgreen'],tick_label=z)\n",
    "plt.ylabel('H Index')\n",
    "plt.xlabel('Country')\n",
    "plt.suptitle('H Index of Countries')\n",
    "plt.title('Barplot 1.2',fontsize=10)\n",
    "plt.show()"
   ]
  },
  {
   "cell_type": "code",
   "execution_count": 170,
   "id": "1d0e1ce2",
   "metadata": {},
   "outputs": [
    {
     "data": {
      "image/png": "[encoded data removed]",
      "text/plain": [
       "<Figure size 432x288 with 1 Axes>"
      ]
     },
     "metadata": {
      "needs_background": "light"
     },
     "output_type": "display_data"
    }
   ],
   "source": [
    "plt.bar(d.Country,height=d.Citationsperdocument,color=['blue','darkblue','blue','blue','deepskyblue','deepskyblue','deepskyblue','deepskyblue','deepskyblue','darkblue'],tick_label=z)\n",
    "plt.ylabel('Citations per Documents')\n",
    "plt.xlabel('Country')\n",
    "plt.suptitle('Citations per Documents')\n",
    "plt.title('Barplot 1.3',fontsize=10)\n",
    "plt.show()"
   ]
  },
  {
   "cell_type": "code",
   "execution_count": 172,
   "id": "86e3acd9",
   "metadata": {},
   "outputs": [
    {
     "data": {
      "image/png": "[encoded data removed]",
      "text/plain": [
       "<Figure size 432x288 with 1 Axes>"
      ]
     },
     "metadata": {
      "needs_background": "light"
     },
     "output_type": "display_data"
    }
   ],
   "source": [
    "plt.bar(d.Country,height=d.Documents,color=['grey','black','grey','grey','darkgrey','darkgrey','darkgrey','darkgrey','darkgrey','black'],tick_label=z)\n",
    "plt.ylabel('Documents')\n",
    "plt.xlabel('Country')\n",
    "plt.suptitle('Documents')\n",
    "plt.title('Barplot 1.4',fontsize=10)\n",
    "plt.show()"
   ]
  },
  {
   "cell_type": "markdown",
   "id": "92cabc1a",
   "metadata": {},
   "source": [
    "# Trend showing Schimago Journal have ranked the countries according to the total number of documents released."
   ]
  },
  {
   "cell_type": "code",
   "execution_count": 198,
   "id": "eb4fb357",
   "metadata": {},
   "outputs": [
    {
     "data": {
      "text/plain": [
       "<BarContainer object of 195 artists>"
      ]
     },
     "execution_count": 198,
     "metadata": {},
     "output_type": "execute_result"
    },
    {
     "data": {
      "image/png": "[encoded data removed]",
      "text/plain": [
       "<Figure size 432x288 with 1 Axes>"
      ]
     },
     "metadata": {
      "needs_background": "light"
     },
     "output_type": "display_data"
    }
   ],
   "source": [
    "plt.bar(data.Rank,data.Documents,color='darkmagenta')"
   ]
  },
  {
   "cell_type": "markdown",
   "id": "e985a8dd",
   "metadata": {},
   "source": [
    "# Correlation Matrix:"
   ]
  },
  {
   "cell_type": "code",
   "execution_count": 128,
   "id": "65e91b6c",
   "metadata": {},
   "outputs": [
    {
     "data": {
      "text/html": [
       "<div>\n",
       "<style scoped>\n",
       "    .dataframe tbody tr th:only-of-type {\n",
       "        vertical-align: middle;\n",
       "    }\n",
       "\n",
       "    .dataframe tbody tr th {\n",
       "        vertical-align: top;\n",
       "    }\n",
       "\n",
       "    .dataframe thead th {\n",
       "        text-align: right;\n",
       "    }\n",
       "</style>\n",
       "<table border=\"1\" class=\"dataframe\">\n",
       "  <thead>\n",
       "    <tr style=\"text-align: right;\">\n",
       "      <th></th>\n",
       "      <th>Unnamed: 0</th>\n",
       "      <th>Rank</th>\n",
       "      <th>Documents</th>\n",
       "      <th>Citabledocuments</th>\n",
       "      <th>Citations</th>\n",
       "      <th>Selfcitations</th>\n",
       "      <th>Citationsperdocument</th>\n",
       "      <th>Hindex</th>\n",
       "      <th>Nonselfcitations</th>\n",
       "    </tr>\n",
       "  </thead>\n",
       "  <tbody>\n",
       "    <tr>\n",
       "      <th>Unnamed: 0</th>\n",
       "      <td>1.000000</td>\n",
       "      <td>1.000000</td>\n",
       "      <td>-0.408635</td>\n",
       "      <td>-0.405304</td>\n",
       "      <td>-0.372936</td>\n",
       "      <td>-0.284516</td>\n",
       "      <td>-0.575139</td>\n",
       "      <td>-0.720980</td>\n",
       "      <td>-0.399072</td>\n",
       "    </tr>\n",
       "    <tr>\n",
       "      <th>Rank</th>\n",
       "      <td>1.000000</td>\n",
       "      <td>1.000000</td>\n",
       "      <td>-0.408635</td>\n",
       "      <td>-0.405304</td>\n",
       "      <td>-0.372936</td>\n",
       "      <td>-0.284516</td>\n",
       "      <td>-0.575139</td>\n",
       "      <td>-0.720980</td>\n",
       "      <td>-0.399072</td>\n",
       "    </tr>\n",
       "    <tr>\n",
       "      <th>Documents</th>\n",
       "      <td>-0.408635</td>\n",
       "      <td>-0.408635</td>\n",
       "      <td>1.000000</td>\n",
       "      <td>0.999911</td>\n",
       "      <td>0.894848</td>\n",
       "      <td>0.962002</td>\n",
       "      <td>0.283551</td>\n",
       "      <td>0.771893</td>\n",
       "      <td>0.800486</td>\n",
       "    </tr>\n",
       "    <tr>\n",
       "      <th>Citabledocuments</th>\n",
       "      <td>-0.405304</td>\n",
       "      <td>-0.405304</td>\n",
       "      <td>0.999911</td>\n",
       "      <td>1.000000</td>\n",
       "      <td>0.890376</td>\n",
       "      <td>0.962015</td>\n",
       "      <td>0.279360</td>\n",
       "      <td>0.766078</td>\n",
       "      <td>0.793775</td>\n",
       "    </tr>\n",
       "    <tr>\n",
       "      <th>Citations</th>\n",
       "      <td>-0.372936</td>\n",
       "      <td>-0.372936</td>\n",
       "      <td>0.894848</td>\n",
       "      <td>0.890376</td>\n",
       "      <td>1.000000</td>\n",
       "      <td>0.927349</td>\n",
       "      <td>0.376543</td>\n",
       "      <td>0.836492</td>\n",
       "      <td>0.977608</td>\n",
       "    </tr>\n",
       "    <tr>\n",
       "      <th>Selfcitations</th>\n",
       "      <td>-0.284516</td>\n",
       "      <td>-0.284516</td>\n",
       "      <td>0.962002</td>\n",
       "      <td>0.962015</td>\n",
       "      <td>0.927349</td>\n",
       "      <td>1.000000</td>\n",
       "      <td>0.228024</td>\n",
       "      <td>0.694825</td>\n",
       "      <td>0.827840</td>\n",
       "    </tr>\n",
       "    <tr>\n",
       "      <th>Citationsperdocument</th>\n",
       "      <td>-0.575139</td>\n",
       "      <td>-0.575139</td>\n",
       "      <td>0.283551</td>\n",
       "      <td>0.279360</td>\n",
       "      <td>0.376543</td>\n",
       "      <td>0.228024</td>\n",
       "      <td>1.000000</td>\n",
       "      <td>0.667646</td>\n",
       "      <td>0.436248</td>\n",
       "    </tr>\n",
       "    <tr>\n",
       "      <th>Hindex</th>\n",
       "      <td>-0.720980</td>\n",
       "      <td>-0.720980</td>\n",
       "      <td>0.771893</td>\n",
       "      <td>0.766078</td>\n",
       "      <td>0.836492</td>\n",
       "      <td>0.694825</td>\n",
       "      <td>0.667646</td>\n",
       "      <td>1.000000</td>\n",
       "      <td>0.863254</td>\n",
       "    </tr>\n",
       "    <tr>\n",
       "      <th>Nonselfcitations</th>\n",
       "      <td>-0.399072</td>\n",
       "      <td>-0.399072</td>\n",
       "      <td>0.800486</td>\n",
       "      <td>0.793775</td>\n",
       "      <td>0.977608</td>\n",
       "      <td>0.827840</td>\n",
       "      <td>0.436248</td>\n",
       "      <td>0.863254</td>\n",
       "      <td>1.000000</td>\n",
       "    </tr>\n",
       "  </tbody>\n",
       "</table>\n",
       "</div>"
      ],
      "text/plain": [
       "                      Unnamed: 0      Rank  Documents  Citabledocuments  \\\n",
       "Unnamed: 0              1.000000  1.000000  -0.408635         -0.405304   \n",
       "Rank                    1.000000  1.000000  -0.408635         -0.405304   \n",
       "Documents              -0.408635 -0.408635   1.000000          0.999911   \n",
       "Citabledocuments       -0.405304 -0.405304   0.999911          1.000000   \n",
       "Citations              -0.372936 -0.372936   0.894848          0.890376   \n",
       "Selfcitations          -0.284516 -0.284516   0.962002          0.962015   \n",
       "Citationsperdocument   -0.575139 -0.575139   0.283551          0.279360   \n",
       "Hindex                 -0.720980 -0.720980   0.771893          0.766078   \n",
       "Nonselfcitations       -0.399072 -0.399072   0.800486          0.793775   \n",
       "\n",
       "                      Citations  Selfcitations  Citationsperdocument  \\\n",
       "Unnamed: 0            -0.372936      -0.284516             -0.575139   \n",
       "Rank                  -0.372936      -0.284516             -0.575139   \n",
       "Documents              0.894848       0.962002              0.283551   \n",
       "Citabledocuments       0.890376       0.962015              0.279360   \n",
       "Citations              1.000000       0.927349              0.376543   \n",
       "Selfcitations          0.927349       1.000000              0.228024   \n",
       "Citationsperdocument   0.376543       0.228024              1.000000   \n",
       "Hindex                 0.836492       0.694825              0.667646   \n",
       "Nonselfcitations       0.977608       0.827840              0.436248   \n",
       "\n",
       "                        Hindex  Nonselfcitations  \n",
       "Unnamed: 0           -0.720980         -0.399072  \n",
       "Rank                 -0.720980         -0.399072  \n",
       "Documents             0.771893          0.800486  \n",
       "Citabledocuments      0.766078          0.793775  \n",
       "Citations             0.836492          0.977608  \n",
       "Selfcitations         0.694825          0.827840  \n",
       "Citationsperdocument  0.667646          0.436248  \n",
       "Hindex                1.000000          0.863254  \n",
       "Nonselfcitations      0.863254          1.000000  "
      ]
     },
     "execution_count": 128,
     "metadata": {},
     "output_type": "execute_result"
    }
   ],
   "source": [
    "data.corr()"
   ]
  },
  {
   "cell_type": "markdown",
   "id": "4e3a286b",
   "metadata": {},
   "source": [
    "# Piecharts:"
   ]
  },
  {
   "cell_type": "code",
   "execution_count": 129,
   "id": "0b58196e",
   "metadata": {},
   "outputs": [],
   "source": [
    "Asiatic_Region=data[data['Region']=='Asiatic Region']\n",
    "a=Asiatic_Region.Documents.sum()"
   ]
  },
  {
   "cell_type": "code",
   "execution_count": 130,
   "id": "da18da11",
   "metadata": {},
   "outputs": [],
   "source": [
    "America_Region=data[data['Region']=='Northern America']\n",
    "b=America_Region.Documents.sum()"
   ]
  },
  {
   "cell_type": "code",
   "execution_count": 131,
   "id": "c78decce",
   "metadata": {},
   "outputs": [],
   "source": [
    "WEurope_Region=data[data['Region']=='Western Europe']\n",
    "c=WEurope_Region.Documents.sum()"
   ]
  },
  {
   "cell_type": "code",
   "execution_count": 132,
   "id": "2bece527",
   "metadata": {},
   "outputs": [],
   "source": [
    "Pacific_Region=data[data['Region']=='Pacific Region']\n",
    "d=Pacific_Region.Documents.sum()"
   ]
  },
  {
   "cell_type": "code",
   "execution_count": 133,
   "id": "0e72ad44",
   "metadata": {},
   "outputs": [],
   "source": [
    "Latin_Region=data[data['Region']=='Latin America']\n",
    "e=Latin_Region.Documents.sum()"
   ]
  },
  {
   "cell_type": "code",
   "execution_count": 134,
   "id": "eeb6d306",
   "metadata": {},
   "outputs": [],
   "source": [
    "MiddleEast_Region=data[data['Region']=='Middle East']\n",
    "f=MiddleEast_Region.Documents.sum()"
   ]
  },
  {
   "cell_type": "code",
   "execution_count": 135,
   "id": "4bf8ecbb",
   "metadata": {},
   "outputs": [],
   "source": [
    "Easteurope_Region=data[data['Region']=='Eastern Europe']\n",
    "g=Easteurope_Region.Documents.sum()"
   ]
  },
  {
   "cell_type": "code",
   "execution_count": 136,
   "id": "aac596aa",
   "metadata": {},
   "outputs": [],
   "source": [
    "Egypt_Region=data[data['Region']=='Africa/Middle East']\n",
    "h=Egypt_Region.Documents.sum()"
   ]
  },
  {
   "cell_type": "code",
   "execution_count": 137,
   "id": "f439bfa8",
   "metadata": {},
   "outputs": [],
   "source": [
    "Africa_Region=data[data['Region']=='Africa']\n",
    "i=Africa_Region.Documents.sum()"
   ]
  },
  {
   "cell_type": "code",
   "execution_count": 138,
   "id": "bb2b89dd",
   "metadata": {},
   "outputs": [
    {
     "data": {
      "text/plain": [
       "array(['Asiatic Region', 'Northern America', 'Western Europe',\n",
       "       'Pacific Region', 'Latin America', 'Middle East', 'Eastern Europe',\n",
       "       'Africa/Middle East', 'Africa'], dtype=object)"
      ]
     },
     "execution_count": 138,
     "metadata": {},
     "output_type": "execute_result"
    }
   ],
   "source": [
    "data.Region.unique()"
   ]
  },
  {
   "cell_type": "code",
   "execution_count": 139,
   "id": "dab2d61c",
   "metadata": {},
   "outputs": [],
   "source": [
    "Documents=[a,b,c,d,e,f,g,h,i]"
   ]
  },
  {
   "cell_type": "code",
   "execution_count": 140,
   "id": "c02ff478",
   "metadata": {},
   "outputs": [
    {
     "data": {
      "text/plain": [
       "[483491, 200135, 281869, 31178, 38898, 51956, 63846, 5097, 19278]"
      ]
     },
     "execution_count": 140,
     "metadata": {},
     "output_type": "execute_result"
    }
   ],
   "source": [
    "Documents"
   ]
  },
  {
   "cell_type": "code",
   "execution_count": 141,
   "id": "0d230349",
   "metadata": {},
   "outputs": [],
   "source": [
    "y=['Asiatic Region', 'Northern America', 'Western Europe',\n",
    "       'Pacific Region', 'Latin America', 'Middle East', 'Eastern Europe',\n",
    "       'Africa/Middle East', 'Africa']"
   ]
  },
  {
   "cell_type": "code",
   "execution_count": 194,
   "id": "b8c48f09",
   "metadata": {},
   "outputs": [
    {
     "data": {
      "image/png": "[encoded data removed]",
      "text/plain": [
       "<Figure size 432x288 with 1 Axes>"
      ]
     },
     "metadata": {},
     "output_type": "display_data"
    }
   ],
   "source": [
    "plt.pie(Documents,labels=y,colors=['yellow','saddlebrown','chocolate','darkorange','goldenrod','gold','orange','chocolate','yellow'],autopct = '%1.1f%%',radius=1.2)\n",
    "plt.suptitle('TOTAL AI DOCUMENTS(1996-2021)')\n",
    "plt.title('Piechart 1.1')\n",
    "plt.show()\n"
   ]
  },
  {
   "cell_type": "code",
   "execution_count": null,
   "id": "a25d1bc8",
   "metadata": {},
   "outputs": [],
   "source": []
  },
  {
   "cell_type": "code",
   "execution_count": 144,
   "id": "10ba8180",
   "metadata": {},
   "outputs": [],
   "source": [
    "Asiatic_Region=data[data['Region']=='Asiatic Region']\n",
    "a=Asiatic_Region.Citations.sum()\n",
    "America_Region=data[data['Region']=='Northern America']\n",
    "b=America_Region.Citations.sum()\n",
    "WEurope_Region=data[data['Region']=='Western Europe']\n",
    "c=WEurope_Region.Citations.sum()\n",
    "Pacific_Region=data[data['Region']=='Pacific Region']\n",
    "d=Pacific_Region.Citations.sum()\n",
    "Latin_Region=data[data['Region']=='Latin America']\n",
    "e=Latin_Region.Citations.sum()\n",
    "MiddleEast_Region=data[data['Region']=='Middle East']\n",
    "f=MiddleEast_Region.Citations.sum()\n",
    "Easteurope_Region=data[data['Region']=='Eastern Europe']\n",
    "g=Easteurope_Region.Citations.sum()\n",
    "Egypt_Region=data[data['Region']=='Africa/Middle East']\n",
    "h=Egypt_Region.Citations.sum()\n",
    "Africa_Region=data[data['Region']=='Africa']\n",
    "i=Africa_Region.Citations.sum()\n"
   ]
  },
  {
   "cell_type": "code",
   "execution_count": 145,
   "id": "f99a0c0e",
   "metadata": {},
   "outputs": [],
   "source": [
    "Citations=[a,b,c,d,e,f,g,h,i]"
   ]
  },
  {
   "cell_type": "code",
   "execution_count": 195,
   "id": "a1bd0e61",
   "metadata": {},
   "outputs": [
    {
     "data": {
      "image/png": "[encoded data removed]",
      "text/plain": [
       "<Figure size 432x288 with 1 Axes>"
      ]
     },
     "metadata": {},
     "output_type": "display_data"
    }
   ],
   "source": [
    "plt.pie(Citations,labels=y,colors=['mediumblue','ivory','lightblue','lightskyblue','cyan','dodgerblue','mediumblue','navy','deepskyblue'],startangle=30,counterclock=False,autopct = '%1.1f%%',radius=1.2)\n",
    "plt.suptitle('TOTAL CITATIONS(1996-2021)')\n",
    "plt.title('Piechart 1.2')\n",
    "plt.show()\n"
   ]
  },
  {
   "cell_type": "code",
   "execution_count": 147,
   "id": "b406cc8d",
   "metadata": {},
   "outputs": [],
   "source": [
    "Asiatic_Region=data[data['Region']=='Asiatic Region']\n",
    "a=Asiatic_Region.Nonselfcitations.sum()\n",
    "America_Region=data[data['Region']=='Northern America']\n",
    "b=America_Region.Nonselfcitations.sum()\n",
    "WEurope_Region=data[data['Region']=='Western Europe']\n",
    "c=WEurope_Region.Nonselfcitations.sum()\n",
    "Pacific_Region=data[data['Region']=='Pacific Region']\n",
    "d=Pacific_Region.Nonselfcitations.sum()\n",
    "Latin_Region=data[data['Region']=='Latin America']\n",
    "e=Latin_Region.Nonselfcitations.sum()\n",
    "MiddleEast_Region=data[data['Region']=='Middle East']\n",
    "f=MiddleEast_Region.Nonselfcitations.sum()\n",
    "Easteurope_Region=data[data['Region']=='Eastern Europe']\n",
    "g=Easteurope_Region.Nonselfcitations.sum()\n",
    "Egypt_Region=data[data['Region']=='Africa/Middle East']\n",
    "h=Egypt_Region.Nonselfcitations.sum()\n",
    "Africa_Region=data[data['Region']=='Africa']\n",
    "i=Africa_Region.Nonselfcitations.sum()\n"
   ]
  },
  {
   "cell_type": "code",
   "execution_count": 148,
   "id": "b145f8da",
   "metadata": {},
   "outputs": [],
   "source": [
    "Non_Self_Citations=[a,b,c,d,e,f,g,h,i]"
   ]
  },
  {
   "cell_type": "code",
   "execution_count": 196,
   "id": "47710dc7",
   "metadata": {},
   "outputs": [
    {
     "data": {
      "image/png": "[encoded data removed]",
      "text/plain": [
       "<Figure size 432x288 with 1 Axes>"
      ]
     },
     "metadata": {},
     "output_type": "display_data"
    }
   ],
   "source": [
    "plt.pie(Non_Self_Citations,labels=y,colors=['greenyellow','darkgreen','lime','limegreen','chartreuse','seagreen','darkslategray','darkcyan','yellowgreen'],autopct = '%1.1f%%',radius=1.2)\n",
    "plt.suptitle('TOTAL Non-Self Citations(1996-2021)')\n",
    "plt.title('Piechart 1.3')\n",
    "plt.show()\n"
   ]
  },
  {
   "cell_type": "code",
   "execution_count": null,
   "id": "efce1f3c",
   "metadata": {},
   "outputs": [],
   "source": []
  }
 ],
 "metadata": {
  "kernelspec": {
   "display_name": "Python 3 (ipykernel)",
   "language": "python",
   "name": "python3"
  },
  "language_info": {
   "codemirror_mode": {
    "name": "ipython",
    "version": 3
   },
   "file_extension": ".py",
   "mimetype": "text/x-python",
   "name": "python",
   "nbconvert_exporter": "python",
   "pygments_lexer": "ipython3",
   "version": "3.9.12"
  }
 },
 "nbformat": 4,
 "nbformat_minor": 5
}
